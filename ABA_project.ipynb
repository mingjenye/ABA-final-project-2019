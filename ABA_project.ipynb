{
 "cells": [
  {
   "cell_type": "code",
   "execution_count": 1,
   "metadata": {},
   "outputs": [],
   "source": [
    "import pandas as pd\n",
    "import matplotlib.pyplot as plt\n",
    "import seaborn as sns\n",
    "import numpy as np\n",
    "import warnings\n",
    "warnings.filterwarnings('ignore')\n",
    "from scipy.stats import norm, skew\n",
    "pd.set_option('display.max_columns',50)\n",
    "pd.set_option('display.max_rows',100)"
   ]
  },
  {
   "cell_type": "code",
   "execution_count": 2,
   "metadata": {},
   "outputs": [],
   "source": [
    "import statsmodels.api as sm\n",
    "import statsmodels.formula.api as smf"
   ]
  },
  {
   "cell_type": "code",
   "execution_count": 3,
   "metadata": {},
   "outputs": [],
   "source": [
    "data=pd.read_csv('airfoil_self_noise.csv',sep='\\t',\n",
    "                 names=['Freq','Angle','Chord','Velo','Thickness','Pressure'])"
   ]
  },
  {
   "cell_type": "code",
   "execution_count": 4,
   "metadata": {},
   "outputs": [
    {
     "data": {
      "text/html": [
       "<div>\n",
       "<style scoped>\n",
       "    .dataframe tbody tr th:only-of-type {\n",
       "        vertical-align: middle;\n",
       "    }\n",
       "\n",
       "    .dataframe tbody tr th {\n",
       "        vertical-align: top;\n",
       "    }\n",
       "\n",
       "    .dataframe thead th {\n",
       "        text-align: right;\n",
       "    }\n",
       "</style>\n",
       "<table border=\"1\" class=\"dataframe\">\n",
       "  <thead>\n",
       "    <tr style=\"text-align: right;\">\n",
       "      <th></th>\n",
       "      <th>Freq</th>\n",
       "      <th>Angle</th>\n",
       "      <th>Chord</th>\n",
       "      <th>Velo</th>\n",
       "      <th>Thickness</th>\n",
       "      <th>Pressure</th>\n",
       "    </tr>\n",
       "  </thead>\n",
       "  <tbody>\n",
       "    <tr>\n",
       "      <th>0</th>\n",
       "      <td>800</td>\n",
       "      <td>0.0</td>\n",
       "      <td>0.3048</td>\n",
       "      <td>71.3</td>\n",
       "      <td>0.002663</td>\n",
       "      <td>126.201</td>\n",
       "    </tr>\n",
       "    <tr>\n",
       "      <th>1</th>\n",
       "      <td>1000</td>\n",
       "      <td>0.0</td>\n",
       "      <td>0.3048</td>\n",
       "      <td>71.3</td>\n",
       "      <td>0.002663</td>\n",
       "      <td>125.201</td>\n",
       "    </tr>\n",
       "    <tr>\n",
       "      <th>2</th>\n",
       "      <td>1250</td>\n",
       "      <td>0.0</td>\n",
       "      <td>0.3048</td>\n",
       "      <td>71.3</td>\n",
       "      <td>0.002663</td>\n",
       "      <td>125.951</td>\n",
       "    </tr>\n",
       "    <tr>\n",
       "      <th>3</th>\n",
       "      <td>1600</td>\n",
       "      <td>0.0</td>\n",
       "      <td>0.3048</td>\n",
       "      <td>71.3</td>\n",
       "      <td>0.002663</td>\n",
       "      <td>127.591</td>\n",
       "    </tr>\n",
       "    <tr>\n",
       "      <th>4</th>\n",
       "      <td>2000</td>\n",
       "      <td>0.0</td>\n",
       "      <td>0.3048</td>\n",
       "      <td>71.3</td>\n",
       "      <td>0.002663</td>\n",
       "      <td>127.461</td>\n",
       "    </tr>\n",
       "  </tbody>\n",
       "</table>\n",
       "</div>"
      ],
      "text/plain": [
       "   Freq  Angle   Chord  Velo  Thickness  Pressure\n",
       "0   800    0.0  0.3048  71.3   0.002663   126.201\n",
       "1  1000    0.0  0.3048  71.3   0.002663   125.201\n",
       "2  1250    0.0  0.3048  71.3   0.002663   125.951\n",
       "3  1600    0.0  0.3048  71.3   0.002663   127.591\n",
       "4  2000    0.0  0.3048  71.3   0.002663   127.461"
      ]
     },
     "execution_count": 4,
     "metadata": {},
     "output_type": "execute_result"
    }
   ],
   "source": [
    "data.head()"
   ]
  },
  {
   "cell_type": "code",
   "execution_count": 4,
   "metadata": {},
   "outputs": [],
   "source": [
    "data['Pressure2']=data['Pressure']**2\n",
    "data['Pressure_r']=1/data['Pressure']\n",
    "data['Pressure_log']=np.log(data['Pressure'])"
   ]
  },
  {
   "cell_type": "code",
   "execution_count": 5,
   "metadata": {},
   "outputs": [],
   "source": [
    "data['Angle_sin']=np.sin(data['Angle']/180*np.pi)\n",
    "data['Angle_cos']=np.cos(data['Angle']/180*np.pi)"
   ]
  },
  {
   "cell_type": "code",
   "execution_count": 6,
   "metadata": {},
   "outputs": [],
   "source": [
    "data['Angle_sin2']=data['Angle_sin']**2\n",
    "data['Angle_cos2']=data['Angle_cos']**2"
   ]
  },
  {
   "cell_type": "code",
   "execution_count": 7,
   "metadata": {},
   "outputs": [],
   "source": [
    "data['Angle_sin_r']=1/data['Angle_sin']\n",
    "data['Angle_cos_r']=1/data['Angle_cos']"
   ]
  },
  {
   "cell_type": "code",
   "execution_count": 56,
   "metadata": {},
   "outputs": [],
   "source": [
    "data['velo_freq_thick']=data['Velo']/(data['Freq']*data['Thickness'])\n",
    "data['velo_freq_chord']=data['Velo']/(data['Freq']*data['Chord'])\n",
    "data['chord_thick']=data['Chord']/data['Thickness']"
   ]
  },
  {
   "cell_type": "code",
   "execution_count": 9,
   "metadata": {},
   "outputs": [],
   "source": [
    "data['Freq_log']=np.log(data['Freq'])\n",
    "data['Angle_log']=np.log(data['Angle']+1)\n",
    "data['Chord_log']=np.log(data['Chord'])\n",
    "data['Velo_log']=np.log(data['Velo'])\n",
    "data['Thickness_log']=np.log(data['Thickness'])"
   ]
  },
  {
   "cell_type": "code",
   "execution_count": 10,
   "metadata": {},
   "outputs": [],
   "source": [
    "# squared root\n",
    "data['Freq_sqrt']=np.sqrt(data['Freq'])\n",
    "data['Angle_sqrt']=np.sqrt(data['Angle']+1)\n",
    "data['Chord_sqrt']=np.sqrt(data['Chord'])\n",
    "data['Velo_sqrt']=np.sqrt(data['Velo'])\n",
    "data['Thickness_sqrt']=np.sqrt(data['Thickness'])"
   ]
  },
  {
   "cell_type": "code",
   "execution_count": 11,
   "metadata": {},
   "outputs": [],
   "source": [
    "# Squared\n",
    "data['Freq2']=data['Freq']**2\n",
    "data['Angle2']=data['Angle']**2\n",
    "data['Chord2']=data['Chord']**2\n",
    "data['Velo2']=data['Velo']**2\n",
    "data['Thickness2']=data['Thickness']**2"
   ]
  },
  {
   "cell_type": "code",
   "execution_count": 12,
   "metadata": {},
   "outputs": [],
   "source": [
    "# Cubed\n",
    "data['Freq3']=data['Freq']**3\n",
    "data['Angle3']=data['Angle']**3\n",
    "data['Chord3']=data['Chord']**3\n",
    "data['Velo3']=data['Velo']**3\n",
    "data['Thickness3']=data['Thickness']**3"
   ]
  },
  {
   "cell_type": "code",
   "execution_count": 13,
   "metadata": {},
   "outputs": [],
   "source": [
    "# Reciprocal\n",
    "data['Freq_r']=1/data['Freq']\n",
    "data['Angle_r']=1/(data['Angle']+1)\n",
    "data['Chord_r']=1/data['Chord']\n",
    "data['Velo_r']=1/data['Velo']\n",
    "data['Thickness_r']=1/data['Thickness']"
   ]
  },
  {
   "cell_type": "code",
   "execution_count": 14,
   "metadata": {},
   "outputs": [
    {
     "data": {
      "text/html": [
       "<div>\n",
       "<style scoped>\n",
       "    .dataframe tbody tr th:only-of-type {\n",
       "        vertical-align: middle;\n",
       "    }\n",
       "\n",
       "    .dataframe tbody tr th {\n",
       "        vertical-align: top;\n",
       "    }\n",
       "\n",
       "    .dataframe thead th {\n",
       "        text-align: right;\n",
       "    }\n",
       "</style>\n",
       "<table border=\"1\" class=\"dataframe\">\n",
       "  <thead>\n",
       "    <tr style=\"text-align: right;\">\n",
       "      <th></th>\n",
       "      <th>Freq</th>\n",
       "      <th>Angle</th>\n",
       "      <th>Chord</th>\n",
       "      <th>Velo</th>\n",
       "      <th>Thickness</th>\n",
       "      <th>Pressure</th>\n",
       "      <th>Pressure2</th>\n",
       "      <th>Pressure_r</th>\n",
       "      <th>Pressure_log</th>\n",
       "      <th>Angle_sin</th>\n",
       "      <th>Angle_cos</th>\n",
       "      <th>Angle_sin2</th>\n",
       "      <th>Angle_cos2</th>\n",
       "      <th>Angle_sin_r</th>\n",
       "      <th>Angle_cos_r</th>\n",
       "      <th>velo_freq_thick</th>\n",
       "      <th>velo_freq_chord</th>\n",
       "      <th>Freq_log</th>\n",
       "      <th>Angle_log</th>\n",
       "      <th>Chord_log</th>\n",
       "      <th>Velo_log</th>\n",
       "      <th>Thickness_log</th>\n",
       "      <th>Freq_sqrt</th>\n",
       "      <th>Angle_sqrt</th>\n",
       "      <th>Chord_sqrt</th>\n",
       "      <th>Velo_sqrt</th>\n",
       "      <th>Thickness_sqrt</th>\n",
       "      <th>Freq2</th>\n",
       "      <th>Angle2</th>\n",
       "      <th>Chord2</th>\n",
       "      <th>Velo2</th>\n",
       "      <th>Thickness2</th>\n",
       "      <th>Freq3</th>\n",
       "      <th>Angle3</th>\n",
       "      <th>Chord3</th>\n",
       "      <th>Velo3</th>\n",
       "      <th>Thickness3</th>\n",
       "      <th>Freq_r</th>\n",
       "      <th>Angle_r</th>\n",
       "      <th>Chord_r</th>\n",
       "      <th>Velo_r</th>\n",
       "      <th>Thickness_r</th>\n",
       "    </tr>\n",
       "  </thead>\n",
       "  <tbody>\n",
       "    <tr>\n",
       "      <th>0</th>\n",
       "      <td>800</td>\n",
       "      <td>0.0</td>\n",
       "      <td>0.3048</td>\n",
       "      <td>71.3</td>\n",
       "      <td>0.002663</td>\n",
       "      <td>126.201</td>\n",
       "      <td>15926.692401</td>\n",
       "      <td>0.007924</td>\n",
       "      <td>4.837876</td>\n",
       "      <td>0.0</td>\n",
       "      <td>1.0</td>\n",
       "      <td>0.0</td>\n",
       "      <td>1.0</td>\n",
       "      <td>inf</td>\n",
       "      <td>1.0</td>\n",
       "      <td>33.463244</td>\n",
       "      <td>0.292405</td>\n",
       "      <td>6.684612</td>\n",
       "      <td>0.0</td>\n",
       "      <td>-1.188099</td>\n",
       "      <td>4.266896</td>\n",
       "      <td>-5.928163</td>\n",
       "      <td>28.284271</td>\n",
       "      <td>1.0</td>\n",
       "      <td>0.552087</td>\n",
       "      <td>8.443933</td>\n",
       "      <td>0.051608</td>\n",
       "      <td>640000</td>\n",
       "      <td>0.0</td>\n",
       "      <td>0.092903</td>\n",
       "      <td>5083.69</td>\n",
       "      <td>0.000007</td>\n",
       "      <td>512000000</td>\n",
       "      <td>0.0</td>\n",
       "      <td>0.028317</td>\n",
       "      <td>362467.097</td>\n",
       "      <td>1.889272e-08</td>\n",
       "      <td>0.00125</td>\n",
       "      <td>1.0</td>\n",
       "      <td>3.28084</td>\n",
       "      <td>0.014025</td>\n",
       "      <td>375.464168</td>\n",
       "    </tr>\n",
       "    <tr>\n",
       "      <th>1</th>\n",
       "      <td>1000</td>\n",
       "      <td>0.0</td>\n",
       "      <td>0.3048</td>\n",
       "      <td>71.3</td>\n",
       "      <td>0.002663</td>\n",
       "      <td>125.201</td>\n",
       "      <td>15675.290401</td>\n",
       "      <td>0.007987</td>\n",
       "      <td>4.829920</td>\n",
       "      <td>0.0</td>\n",
       "      <td>1.0</td>\n",
       "      <td>0.0</td>\n",
       "      <td>1.0</td>\n",
       "      <td>inf</td>\n",
       "      <td>1.0</td>\n",
       "      <td>26.770595</td>\n",
       "      <td>0.233924</td>\n",
       "      <td>6.907755</td>\n",
       "      <td>0.0</td>\n",
       "      <td>-1.188099</td>\n",
       "      <td>4.266896</td>\n",
       "      <td>-5.928163</td>\n",
       "      <td>31.622777</td>\n",
       "      <td>1.0</td>\n",
       "      <td>0.552087</td>\n",
       "      <td>8.443933</td>\n",
       "      <td>0.051608</td>\n",
       "      <td>1000000</td>\n",
       "      <td>0.0</td>\n",
       "      <td>0.092903</td>\n",
       "      <td>5083.69</td>\n",
       "      <td>0.000007</td>\n",
       "      <td>1000000000</td>\n",
       "      <td>0.0</td>\n",
       "      <td>0.028317</td>\n",
       "      <td>362467.097</td>\n",
       "      <td>1.889272e-08</td>\n",
       "      <td>0.00100</td>\n",
       "      <td>1.0</td>\n",
       "      <td>3.28084</td>\n",
       "      <td>0.014025</td>\n",
       "      <td>375.464168</td>\n",
       "    </tr>\n",
       "    <tr>\n",
       "      <th>2</th>\n",
       "      <td>1250</td>\n",
       "      <td>0.0</td>\n",
       "      <td>0.3048</td>\n",
       "      <td>71.3</td>\n",
       "      <td>0.002663</td>\n",
       "      <td>125.951</td>\n",
       "      <td>15863.654401</td>\n",
       "      <td>0.007940</td>\n",
       "      <td>4.835893</td>\n",
       "      <td>0.0</td>\n",
       "      <td>1.0</td>\n",
       "      <td>0.0</td>\n",
       "      <td>1.0</td>\n",
       "      <td>inf</td>\n",
       "      <td>1.0</td>\n",
       "      <td>21.416476</td>\n",
       "      <td>0.187139</td>\n",
       "      <td>7.130899</td>\n",
       "      <td>0.0</td>\n",
       "      <td>-1.188099</td>\n",
       "      <td>4.266896</td>\n",
       "      <td>-5.928163</td>\n",
       "      <td>35.355339</td>\n",
       "      <td>1.0</td>\n",
       "      <td>0.552087</td>\n",
       "      <td>8.443933</td>\n",
       "      <td>0.051608</td>\n",
       "      <td>1562500</td>\n",
       "      <td>0.0</td>\n",
       "      <td>0.092903</td>\n",
       "      <td>5083.69</td>\n",
       "      <td>0.000007</td>\n",
       "      <td>1953125000</td>\n",
       "      <td>0.0</td>\n",
       "      <td>0.028317</td>\n",
       "      <td>362467.097</td>\n",
       "      <td>1.889272e-08</td>\n",
       "      <td>0.00080</td>\n",
       "      <td>1.0</td>\n",
       "      <td>3.28084</td>\n",
       "      <td>0.014025</td>\n",
       "      <td>375.464168</td>\n",
       "    </tr>\n",
       "  </tbody>\n",
       "</table>\n",
       "</div>"
      ],
      "text/plain": [
       "   Freq  Angle   Chord  Velo  Thickness  Pressure     Pressure2  Pressure_r  \\\n",
       "0   800    0.0  0.3048  71.3   0.002663   126.201  15926.692401    0.007924   \n",
       "1  1000    0.0  0.3048  71.3   0.002663   125.201  15675.290401    0.007987   \n",
       "2  1250    0.0  0.3048  71.3   0.002663   125.951  15863.654401    0.007940   \n",
       "\n",
       "   Pressure_log  Angle_sin  Angle_cos  Angle_sin2  Angle_cos2  Angle_sin_r  \\\n",
       "0      4.837876        0.0        1.0         0.0         1.0          inf   \n",
       "1      4.829920        0.0        1.0         0.0         1.0          inf   \n",
       "2      4.835893        0.0        1.0         0.0         1.0          inf   \n",
       "\n",
       "   Angle_cos_r  velo_freq_thick  velo_freq_chord  Freq_log  Angle_log  \\\n",
       "0          1.0        33.463244         0.292405  6.684612        0.0   \n",
       "1          1.0        26.770595         0.233924  6.907755        0.0   \n",
       "2          1.0        21.416476         0.187139  7.130899        0.0   \n",
       "\n",
       "   Chord_log  Velo_log  Thickness_log  Freq_sqrt  Angle_sqrt  Chord_sqrt  \\\n",
       "0  -1.188099  4.266896      -5.928163  28.284271         1.0    0.552087   \n",
       "1  -1.188099  4.266896      -5.928163  31.622777         1.0    0.552087   \n",
       "2  -1.188099  4.266896      -5.928163  35.355339         1.0    0.552087   \n",
       "\n",
       "   Velo_sqrt  Thickness_sqrt    Freq2  Angle2    Chord2    Velo2  Thickness2  \\\n",
       "0   8.443933        0.051608   640000     0.0  0.092903  5083.69    0.000007   \n",
       "1   8.443933        0.051608  1000000     0.0  0.092903  5083.69    0.000007   \n",
       "2   8.443933        0.051608  1562500     0.0  0.092903  5083.69    0.000007   \n",
       "\n",
       "        Freq3  Angle3    Chord3       Velo3    Thickness3   Freq_r  Angle_r  \\\n",
       "0   512000000     0.0  0.028317  362467.097  1.889272e-08  0.00125      1.0   \n",
       "1  1000000000     0.0  0.028317  362467.097  1.889272e-08  0.00100      1.0   \n",
       "2  1953125000     0.0  0.028317  362467.097  1.889272e-08  0.00080      1.0   \n",
       "\n",
       "   Chord_r    Velo_r  Thickness_r  \n",
       "0  3.28084  0.014025   375.464168  \n",
       "1  3.28084  0.014025   375.464168  \n",
       "2  3.28084  0.014025   375.464168  "
      ]
     },
     "execution_count": 14,
     "metadata": {},
     "output_type": "execute_result"
    }
   ],
   "source": [
    "data.head(3)"
   ]
  },
  {
   "cell_type": "code",
   "execution_count": 15,
   "metadata": {},
   "outputs": [
    {
     "data": {
      "image/png": "[encoded data removed]",
      "text/plain": [
       "<Figure size 432x288 with 1 Axes>"
      ]
     },
     "metadata": {},
     "output_type": "display_data"
    }
   ],
   "source": [
    "sns.distplot(data['Pressure'],fit=norm)\n",
    "plt.show()"
   ]
  },
  {
   "cell_type": "code",
   "execution_count": 16,
   "metadata": {},
   "outputs": [
    {
     "data": {
      "image/png": "[encoded data removed]",
      "text/plain": [
       "<Figure size 432x288 with 1 Axes>"
      ]
     },
     "metadata": {},
     "output_type": "display_data"
    }
   ],
   "source": [
    "sns.distplot(data['Pressure_r'],fit=norm)\n",
    "plt.show()"
   ]
  },
  {
   "cell_type": "code",
   "execution_count": 93,
   "metadata": {
    "scrolled": true
   },
   "outputs": [
    {
     "data": {
      "image/png": "[encoded data removed]",
      "text/plain": [
       "<Figure size 720x360 with 1 Axes>"
      ]
     },
     "metadata": {},
     "output_type": "display_data"
    }
   ],
   "source": [
    "plt.figure(figsize=(10,5))\n",
    "sns.boxplot(data['Freq_log'],data['Pressure'])\n",
    "# plt.scatter(x=data['Freq_log'],y=data['Pressure'])\n",
    "plt.show()"
   ]
  },
  {
   "cell_type": "code",
   "execution_count": 92,
   "metadata": {},
   "outputs": [
    {
     "data": {
      "image/png": "[encoded data removed]",
      "text/plain": [
       "<Figure size 720x360 with 1 Axes>"
      ]
     },
     "metadata": {},
     "output_type": "display_data"
    }
   ],
   "source": [
    "plt.figure(figsize=(10,5))\n",
    "sns.boxplot(data['Angle'],data['Pressure'])\n",
    "# plt.scatter(x=data['Angle'],y=data['Pressure'])\n",
    "plt.show()"
   ]
  },
  {
   "cell_type": "code",
   "execution_count": 89,
   "metadata": {},
   "outputs": [
    {
     "data": {
      "image/png": "[encoded data removed]",
      "text/plain": [
       "<Figure size 720x360 with 1 Axes>"
      ]
     },
     "metadata": {},
     "output_type": "display_data"
    }
   ],
   "source": [
    "plt.figure(figsize=(10,5))\n",
    "sns.boxplot(data['Chord'],data['Pressure'])\n",
    "# plt.scatter(x=data['Chord'],y=data['Pressure'])\n",
    "plt.show()"
   ]
  },
  {
   "cell_type": "code",
   "execution_count": 88,
   "metadata": {},
   "outputs": [
    {
     "data": {
      "image/png": "[encoded data removed]",
      "text/plain": [
       "<Figure size 720x360 with 1 Axes>"
      ]
     },
     "metadata": {},
     "output_type": "display_data"
    }
   ],
   "source": [
    "plt.figure(figsize=(10,5))\n",
    "# b1=plt.boxplot(x=data['Pressure'][data['Velo']==71.3],positions=[1])\n",
    "# b2=plt.boxplot(x=data['Pressure'][data['Velo']==55.5],positions=[2])\n",
    "sns.boxplot(data['Velo'],data['Pressure'])\n",
    "plt.show()"
   ]
  },
  {
   "cell_type": "code",
   "execution_count": 28,
   "metadata": {},
   "outputs": [
    {
     "data": {
      "image/png": "[encoded data removed]",
      "text/plain": [
       "<Figure size 432x288 with 1 Axes>"
      ]
     },
     "metadata": {},
     "output_type": "display_data"
    }
   ],
   "source": [
    "plt.scatter(x=data['Thickness'],y=data['Pressure'])\n",
    "plt.show()"
   ]
  },
  {
   "cell_type": "code",
   "execution_count": 52,
   "metadata": {},
   "outputs": [
    {
     "name": "stdout",
     "output_type": "stream",
     "text": [
      "                  Results: Ordinary least squares\n",
      "====================================================================\n",
      "Model:              OLS              Adj. R-squared:     0.790      \n",
      "Dependent Variable: Pressure_r       AIC:                -21178.5495\n",
      "Date:               2019-02-15 15:28 BIC:                -21120.0821\n",
      "No. Observations:   1503             Log-Likelihood:     10600.     \n",
      "Df Model:           10               F-statistic:        564.4      \n",
      "Df Residuals:       1492             Prob (F-statistic): 0.00       \n",
      "R-squared:          0.791            Scale:              4.4135e-08 \n",
      "--------------------------------------------------------------------\n",
      "                     Coef.  Std.Err.    t     P>|t|   [0.025  0.975]\n",
      "--------------------------------------------------------------------\n",
      "Intercept            0.0088   0.0003  30.6926 0.0000  0.0082  0.0093\n",
      "Chord                0.0021   0.0001  24.1390 0.0000  0.0019  0.0022\n",
      "Velo                -0.0000   0.0000 -30.0166 0.0000 -0.0000 -0.0000\n",
      "Thickness2           0.3452   0.0111  30.9654 0.0000  0.3233  0.3670\n",
      "Freq2               -0.0000   0.0000  -4.9246 0.0000 -0.0000 -0.0000\n",
      "Freq_r              -0.0734   0.0100  -7.3396 0.0000 -0.0930 -0.0537\n",
      "Thickness_r         -0.0000   0.0000 -30.2648 0.0000 -0.0000 -0.0000\n",
      "Freq_sqrt            0.0000   0.0000  34.7696 0.0000  0.0000  0.0000\n",
      "Angle_cos2          -0.0016   0.0003  -5.3330 0.0000 -0.0022 -0.0010\n",
      "velo_freq_thick      0.0000   0.0000  28.8098 0.0000  0.0000  0.0000\n",
      "velo_freq_chord      0.0002   0.0000  25.5534 0.0000  0.0002  0.0002\n",
      "--------------------------------------------------------------------\n",
      "Omnibus:             31.412      Durbin-Watson:         0.422       \n",
      "Prob(Omnibus):       0.000       Jarque-Bera (JB):      57.398      \n",
      "Skew:                0.124       Prob(JB):              0.000       \n",
      "Kurtosis:            3.925       Condition No.:         101979172862\n",
      "====================================================================\n",
      "* The condition number is large (1e+11). This might indicate\n",
      "strong multicollinearity or other numerical problems.\n"
     ]
    }
   ],
   "source": [
    "# This used the original data & combination\n",
    "result = smf.ols(formula=\\\n",
    "                 \"Pressure_r~Chord+Velo+Thickness2+Freq2+Freq_r+Thickness_r+Freq_sqrt+Angle_cos2+velo_freq_thick+velo_freq_chord\"\\\n",
    "                 , data=data).fit()\n",
    "print(result.summary2())"
   ]
  },
  {
   "cell_type": "code",
   "execution_count": 57,
   "metadata": {},
   "outputs": [],
   "source": [
    "# Min max standardize the data\n",
    "data_std=data.copy()\n",
    "for col in data_std.columns:\n",
    "    ma=data_std[col].max()\n",
    "    mi=data_std[col].min()\n",
    "    data_std[col]=(data_std[col]-mi)/(ma-mi)"
   ]
  },
  {
   "cell_type": "code",
   "execution_count": 94,
   "metadata": {},
   "outputs": [
    {
     "name": "stdout",
     "output_type": "stream",
     "text": [
      "                  Results: Ordinary least squares\n",
      "===================================================================\n",
      "Model:              OLS              Adj. R-squared:     0.761     \n",
      "Dependent Variable: Pressure         AIC:                -2976.6934\n",
      "Date:               2019-02-15 17:38 BIC:                -2928.8564\n",
      "No. Observations:   1503             Log-Likelihood:     1497.3    \n",
      "Df Model:           8                F-statistic:        599.9     \n",
      "Df Residuals:       1494             Prob (F-statistic): 0.00      \n",
      "R-squared:          0.763            Scale:              0.0080318 \n",
      "-------------------------------------------------------------------\n",
      "                    Coef.  Std.Err.    t     P>|t|   [0.025  0.975]\n",
      "-------------------------------------------------------------------\n",
      "Intercept           1.2201   0.0161  75.5984 0.0000  1.1884  1.2517\n",
      "Chord              -0.3110   0.0121 -25.6893 0.0000 -0.3348 -0.2873\n",
      "Velo                0.1897   0.0065  29.3735 0.0000  0.1771  0.2024\n",
      "Thickness2         -0.4286   0.0166 -25.8459 0.0000 -0.4612 -0.3961\n",
      "Freq_log           -0.9619   0.0169 -56.8557 0.0000 -0.9951 -0.9287\n",
      "Thickness_r         0.4629   0.0232  19.9905 0.0000  0.4174  0.5083\n",
      "Angle_sin          -0.1930   0.0208  -9.2635 0.0000 -0.2339 -0.1522\n",
      "velo_freq_thick    -0.9400   0.0344 -27.3483 0.0000 -1.0074 -0.8726\n",
      "velo_freq_chord    -1.1093   0.0354 -31.3177 0.0000 -1.1788 -1.0399\n",
      "-------------------------------------------------------------------\n",
      "Omnibus:              41.586        Durbin-Watson:           0.424 \n",
      "Prob(Omnibus):        0.000         Jarque-Bera (JB):        98.234\n",
      "Skew:                 0.020         Prob(JB):                0.000 \n",
      "Kurtosis:             4.252         Condition No.:           23    \n",
      "===================================================================\n",
      "\n"
     ]
    }
   ],
   "source": [
    "# This used data after standardization, no change in R^2\n",
    "result = smf.ols(formula=\\\n",
    "                 \"Pressure~Chord+Velo+Thickness2+Freq_log+Thickness_r+Angle_sin+velo_freq_thick+velo_freq_chord\"\\\n",
    "                 , data=data_std).fit()\n",
    "print(result.summary2())"
   ]
  },
  {
   "cell_type": "code",
   "execution_count": null,
   "metadata": {},
   "outputs": [],
   "source": []
  }
 ],
 "metadata": {
  "kernelspec": {
   "display_name": "Python 3",
   "language": "python",
   "name": "python3"
  },
  "language_info": {
   "codemirror_mode": {
    "name": "ipython",
    "version": 3
   },
   "file_extension": ".py",
   "mimetype": "text/x-python",
   "name": "python",
   "nbconvert_exporter": "python",
   "pygments_lexer": "ipython3",
   "version": "3.6.8"
  }
 },
 "nbformat": 4,
 "nbformat_minor": 2
}
